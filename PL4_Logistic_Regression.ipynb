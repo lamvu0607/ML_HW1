{
  "cells": [
    {
      "cell_type": "code",
      "execution_count": null,
      "id": "c68569b5",
      "metadata": {
        "id": "c68569b5",
        "outputId": "590ab588-e537-456d-8896-6ae0a2c7b8a4",
        "colab": {
          "base_uri": "https://localhost:8080/"
        }
      },
      "outputs": [
        {
          "output_type": "stream",
          "name": "stdout",
          "text": [
            "Accuracy: 0.93\n",
            "Classification Report:\n",
            "              precision    recall  f1-score   support\n",
            "\n",
            "           0       0.95      0.91      0.93       388\n",
            "           1       0.92      0.95      0.93       407\n",
            "\n",
            "    accuracy                           0.93       795\n",
            "   macro avg       0.93      0.93      0.93       795\n",
            "weighted avg       0.93      0.93      0.93       795\n",
            "\n",
            "Top words for class rec.sport.hockey:\n",
            "game, hockey, he, team, games, nhl, play, his, espn, season\n",
            "\n",
            "Top words for class sci.space:\n",
            "data, launch, is, earth, nasa, shuttle, orbit, moon, of, space\n",
            "\n"
          ]
        }
      ],
      "source": [
        "import pandas as pd\n",
        "from sklearn.datasets import fetch_20newsgroups\n",
        "from sklearn.feature_extraction.text import TfidfVectorizer\n",
        "from sklearn.model_selection import train_test_split\n",
        "from sklearn.linear_model import LogisticRegression\n",
        "from sklearn.metrics import accuracy_score, classification_report\n",
        "import numpy as np\n",
        "\n",
        "# Load 20 Newsgroups dataset\n",
        "newsgroups = fetch_20newsgroups(subset='all', categories=['rec.sport.hockey', 'sci.space'], remove=('headers', 'footers', 'quotes'))\n",
        "\n",
        "# Create DataFrame\n",
        "df = pd.DataFrame({'text': newsgroups.data, 'label': newsgroups.target})\n",
        "\n",
        "# Split data into features (X) and target (y)\n",
        "X = df['text']\n",
        "y = df['label']\n",
        "\n",
        "# Split the data into training and test sets\n",
        "X_train, X_test, y_train, y_test = train_test_split(X, y, test_size=0.4, random_state=42)\n",
        "\n",
        "# Convert text data into TF-IDF features\n",
        "vectorizer = TfidfVectorizer()\n",
        "X_train_tfidf = vectorizer.fit_transform(X_train)\n",
        "X_test_tfidf = vectorizer.transform(X_test)\n",
        "\n",
        "# Train a Logistic Regression model\n",
        "model = LogisticRegression()\n",
        "model.fit(X_train_tfidf, y_train)\n",
        "\n",
        "# Predict on the test set\n",
        "y_pred = model.predict(X_test_tfidf)\n",
        "\n",
        "# Evaluate the model\n",
        "accuracy = accuracy_score(y_test, y_pred)\n",
        "print(f'Accuracy: {accuracy:.2f}')\n",
        "print('Classification Report:')\n",
        "print(classification_report(y_test, y_pred))\n",
        "\n",
        "# Function to get top words per class\n",
        "def get_top_words_per_class(vectorizer, model, class_labels, n=10):\n",
        "    feature_names = np.array(vectorizer.get_feature_names_out())\n",
        "    for i, class_label in enumerate(class_labels):\n",
        "        if i == 0:\n",
        "            top_indices = np.argsort(model.coef_[0])[:n]\n",
        "            top_features = feature_names[top_indices]\n",
        "        else:\n",
        "            top_indices = np.argsort(model.coef_[0])[-n:]\n",
        "            top_features = feature_names[top_indices]\n",
        "        print(f'Top words for class {class_label}:')\n",
        "        print(', '.join(top_features))\n",
        "        print()\n",
        "\n",
        "# Get top words per class\n",
        "get_top_words_per_class(vectorizer, model, class_labels=newsgroups.target_names)"
      ]
    },
    {
      "cell_type": "code",
      "source": [],
      "metadata": {
        "id": "Tgss32K5N011"
      },
      "id": "Tgss32K5N011",
      "execution_count": null,
      "outputs": []
    },
    {
      "cell_type": "code",
      "execution_count": null,
      "id": "76192664",
      "metadata": {
        "id": "76192664",
        "outputId": "48c448d2-f852-4006-fb1a-fcc8c534f84c",
        "colab": {
          "base_uri": "https://localhost:8080/"
        }
      },
      "outputs": [
        {
          "output_type": "stream",
          "name": "stdout",
          "text": [
            "Dataset shape: (50000, 2)\n",
            "Sample data:\n",
            "                                              review sentiment\n",
            "0  One of the other reviewers has mentioned that ...  positive\n",
            "1  A wonderful little production. <br /><br />The...  positive\n",
            "2  I thought this was a wonderful way to spend ti...  positive\n",
            "3  Basically there's a family where a little boy ...  negative\n",
            "4  Petter Mattei's \"Love in the Time of Money\" is...  positive\n",
            "Accuracy: 0.889\n",
            "Classification Report:\n",
            "               precision    recall  f1-score   support\n",
            "\n",
            "    negative       0.90      0.87      0.89      4961\n",
            "    positive       0.88      0.91      0.89      5039\n",
            "\n",
            "    accuracy                           0.89     10000\n",
            "   macro avg       0.89      0.89      0.89     10000\n",
            "weighted avg       0.89      0.89      0.89     10000\n",
            "\n"
          ]
        }
      ],
      "source": [
        "# Import necessary libraries\n",
        "import pandas as pd\n",
        "from sklearn.model_selection import train_test_split\n",
        "from sklearn.feature_extraction.text import TfidfVectorizer\n",
        "from sklearn.naive_bayes import MultinomialNB\n",
        "from sklearn.metrics import accuracy_score, classification_report\n",
        "\n",
        "# Load the dataset, specifying the 'error_bad_lines' parameter\n",
        "data = pd.read_csv('IMDB Dataset.csv') # Skip lines that cause errors\n",
        "# You can also try to specify a different delimiter if you know it's not a comma\n",
        "#data = pd.read_csv('IMDB Dataset.csv', sep=';', on_bad_lines='skip') # Example with semicolon as delimiter\n",
        "\n",
        "# Explore the dataset\n",
        "print(\"Dataset shape:\", data.shape)\n",
        "print(\"Sample data:\")\n",
        "print(data.head())\n",
        "# Split the data into training and testing sets\n",
        "X_train, X_test, y_train, y_test = train_test_split(\n",
        "    data['review'], data['sentiment'], test_size=0.2, random_state=42\n",
        ")\n",
        "# Text vectorization using TF-IDF\n",
        "tfidf_vectorizer = TfidfVectorizer(stop_words='english', max_features=7000)\n",
        "X_train_tfidf = tfidf_vectorizer.fit_transform(X_train)\n",
        "X_test_tfidf = tfidf_vectorizer.transform(X_test)\n",
        "\n",
        "# Train a LR model\n",
        "nb_classifier = LogisticRegression()\n",
        "nb_classifier.fit(X_train_tfidf, y_train)\n",
        "\n",
        "# Make predictions on the test set\n",
        "y_pred = nb_classifier.predict(X_test_tfidf)\n",
        "\n",
        "# Evaluate the model\n",
        "accuracy = accuracy_score(y_test, y_pred)\n",
        "report = classification_report(y_test, y_pred)\n",
        "\n",
        "print(\"Accuracy:\", accuracy)\n",
        "print(\"Classification Report:\\n\", report)"
      ]
    },
    {
      "cell_type": "code",
      "source": [
        "# Assuming 'nb_model' is your trained Naive Bayes model and 'tfidf_vectorizer' is your TF-IDF vectorizer\n",
        "\n",
        "new_reviews = [\n",
        "    \"This movie was absolutely fantastic! The plot was engaging, the acting was superb, and the special effects were breathtaking. I highly recommend it!\",\n",
        "    \"I was thoroughly disappointed with this film. The story was predictable, the characters were poorly developed, and the pacing was slow. It's a waste of time.\",\n",
        "    \"The movie had its moments, but overall it was just okay. It wasn't terrible, but it wasn't great either. I'm indifferent.\",\n",
        "    \"The acting was terrible, and the storyline was confusing. I would not recommend to watch it.\",\n",
        "    \"I enjoyed the movie. While it may not be the most excellent movie, it was entertaining enough for a movie night. It's certainly watchable and worth your time.\"\n",
        "]\n",
        "\n",
        "new_reviews_tfidf = tfidf_vectorizer.transform(new_reviews)\n",
        "predictions = nb_classifier.predict(new_reviews_tfidf)\n",
        "\n",
        "# Print predictions and compare with expected sentiments\n",
        "for i, prediction in enumerate(predictions):\n",
        "    print(f\"Review {i+1}: Predicted Sentiment: {prediction}, Expected Sentiment: {'positive' if i in [0, 4] else 'negative' if i in [1, 3] else 'neutral'}\")"
      ],
      "metadata": {
        "id": "RHWQk03rN3Hs",
        "outputId": "abbc3f45-ed72-480d-dfff-64ba3488e2ba",
        "colab": {
          "base_uri": "https://localhost:8080/"
        }
      },
      "id": "RHWQk03rN3Hs",
      "execution_count": null,
      "outputs": [
        {
          "output_type": "stream",
          "name": "stdout",
          "text": [
            "Review 1: Predicted Sentiment: positive, Expected Sentiment: positive\n",
            "Review 2: Predicted Sentiment: negative, Expected Sentiment: negative\n",
            "Review 3: Predicted Sentiment: negative, Expected Sentiment: neutral\n",
            "Review 4: Predicted Sentiment: negative, Expected Sentiment: negative\n",
            "Review 5: Predicted Sentiment: positive, Expected Sentiment: positive\n"
          ]
        }
      ]
    },
    {
      "cell_type": "code",
      "source": [
        "# Assuming 'nb_classifier' is your trained LogisticRegression model and 'tfidf_vectorizer' is your TF-IDF vectorizer\n",
        "\n",
        "# Get feature names (words)\n",
        "feature_names = tfidf_vectorizer.get_feature_names_out()\n",
        "\n",
        "# Get coefficients for positive and negative classes\n",
        "coefs = nb_classifier.coef_[0]  # Assuming binary classification (positive/negative)\n",
        "\n",
        "# Get top positive words\n",
        "top_positive_indices = coefs.argsort()[-10:]  # Top 10 positive words\n",
        "top_positive_words = [feature_names[i] for i in top_positive_indices]\n",
        "\n",
        "# Get top negative words\n",
        "top_negative_indices = coefs.argsort()[:10]  # Top 10 negative words\n",
        "top_negative_words = [feature_names[i] for i in top_negative_indices]\n",
        "\n",
        "# Print the results\n",
        "print(\"Top 10 words for Positive Sentiment:\")\n",
        "print(top_positive_words)\n",
        "\n",
        "print(\"\\nTop 10 words for Negative Sentiment:\")\n",
        "print(top_negative_words)"
      ],
      "metadata": {
        "id": "PZ-eKjWPOqVm",
        "outputId": "e61e106b-f4fe-498d-9040-f8f4f041b27d",
        "colab": {
          "base_uri": "https://localhost:8080/"
        }
      },
      "id": "PZ-eKjWPOqVm",
      "execution_count": null,
      "outputs": [
        {
          "output_type": "stream",
          "name": "stdout",
          "text": [
            "Top 10 words for Positive Sentiment:\n",
            "['hilarious', 'loved', 'favorite', 'brilliant', 'amazing', 'perfect', 'wonderful', 'best', 'excellent', 'great']\n",
            "\n",
            "Top 10 words for Negative Sentiment:\n",
            "['worst', 'waste', 'awful', 'bad', 'boring', 'poor', 'terrible', 'dull', 'poorly', 'worse']\n"
          ]
        }
      ]
    }
  ],
  "metadata": {
    "kernelspec": {
      "display_name": "Python 3 (ipykernel)",
      "language": "python",
      "name": "python3"
    },
    "language_info": {
      "codemirror_mode": {
        "name": "ipython",
        "version": 3
      },
      "file_extension": ".py",
      "mimetype": "text/x-python",
      "name": "python",
      "nbconvert_exporter": "python",
      "pygments_lexer": "ipython3",
      "version": "3.11.4"
    },
    "colab": {
      "provenance": []
    }
  },
  "nbformat": 4,
  "nbformat_minor": 5
}