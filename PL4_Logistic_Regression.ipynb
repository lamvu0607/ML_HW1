{
  "cells": [
    {
      "cell_type": "code",
      "source": [
        "import pandas as pd\n",
        "import matplotlib.pyplot as plt\n",
        "\n",
        "df = pd.read_csv('student_scores.csv')\n",
        "print(df.head(10))"
      ],
      "metadata": {
        "id": "Tgss32K5N011",
        "colab": {
          "base_uri": "https://localhost:8080/"
        },
        "outputId": "d8ae2c75-5c69-4617-bec5-274f3eb8dbdf"
      },
      "id": "Tgss32K5N011",
      "execution_count": null,
      "outputs": [
        {
          "output_type": "stream",
          "name": "stdout",
          "text": [
            "   study hours  sleep hours  scores\n",
            "0          2.5          6.4      21\n",
            "1          5.1          7.1      47\n",
            "2          3.2          6.5      27\n",
            "3          8.5          7.8      75\n",
            "4          3.5          8.2      30\n",
            "5          1.5          5.5      20\n",
            "6          9.2          7.6      88\n",
            "7          5.5          6.2      60\n",
            "8          8.3          8.4      81\n",
            "9          2.7          5.7      25\n"
          ]
        }
      ]
    },
    {
      "cell_type": "code",
      "source": [
        "df.info()"
      ],
      "metadata": {
        "colab": {
          "base_uri": "https://localhost:8080/"
        },
        "id": "7nXFR4ziAzdM",
        "outputId": "9e8c7da2-d319-4868-d739-5de057b68d14"
      },
      "id": "7nXFR4ziAzdM",
      "execution_count": null,
      "outputs": [
        {
          "output_type": "stream",
          "name": "stdout",
          "text": [
            "<class 'pandas.core.frame.DataFrame'>\n",
            "RangeIndex: 27 entries, 0 to 26\n",
            "Data columns (total 3 columns):\n",
            " #   Column       Non-Null Count  Dtype  \n",
            "---  ------       --------------  -----  \n",
            " 0   study hours  27 non-null     float64\n",
            " 1   sleep hours  27 non-null     float64\n",
            " 2   scores       27 non-null     int64  \n",
            "dtypes: float64(2), int64(1)\n",
            "memory usage: 776.0 bytes\n"
          ]
        }
      ]
    },
    {
      "cell_type": "code",
      "source": [
        "import pandas as pd\n",
        "from sklearn.model_selection import train_test_split\n",
        "from sklearn.linear_model import LogisticRegression\n",
        "from sklearn.metrics import classification_report\n",
        "import numpy as np\n",
        "\n",
        "# Tạo nhãn phân loại 'Pass' và 'Fail'\n",
        "df['pass_fail'] = np.where(df['scores'] > 39, 'Pass', 'Fail')\n",
        "\n",
        "# Xác định X (đặc trưng) và y (nhãn)\n",
        "X = df[['study hours', 'sleep hours']]\n",
        "y = df['pass_fail']\n",
        "\n",
        "# Chia dữ liệu thành tập huấn luyện và kiểm tra\n",
        "X_train, X_test, y_train, y_test = train_test_split(X, y, test_size=0.3, random_state=42)\n",
        "\n",
        "# Mô hình Logistic Regression\n",
        "model = LogisticRegression()\n",
        "\n",
        "# Huấn luyện mô hình\n",
        "model.fit(X_train, y_train)\n",
        "\n",
        "# Dự đoán trên dữ liệu kiểm tra\n",
        "y_pred = model.predict(X_test)\n",
        "\n",
        "# Đánh giá mô hình\n",
        "print(classification_report(y_test, y_pred))\n"
      ],
      "metadata": {
        "colab": {
          "base_uri": "https://localhost:8080/"
        },
        "id": "NxGsIU5AEE57",
        "outputId": "8579df1e-332f-49a2-d67f-a51a3de8ee3a"
      },
      "id": "NxGsIU5AEE57",
      "execution_count": null,
      "outputs": [
        {
          "output_type": "stream",
          "name": "stdout",
          "text": [
            "              precision    recall  f1-score   support\n",
            "\n",
            "        Fail       0.67      1.00      0.80         4\n",
            "        Pass       1.00      0.60      0.75         5\n",
            "\n",
            "    accuracy                           0.78         9\n",
            "   macro avg       0.83      0.80      0.78         9\n",
            "weighted avg       0.85      0.78      0.77         9\n",
            "\n"
          ]
        }
      ]
    }
  ],
  "metadata": {
    "kernelspec": {
      "display_name": "Python 3 (ipykernel)",
      "language": "python",
      "name": "python3"
    },
    "language_info": {
      "codemirror_mode": {
        "name": "ipython",
        "version": 3
      },
      "file_extension": ".py",
      "mimetype": "text/x-python",
      "name": "python",
      "nbconvert_exporter": "python",
      "pygments_lexer": "ipython3",
      "version": "3.11.4"
    },
    "colab": {
      "provenance": []
    }
  },
  "nbformat": 4,
  "nbformat_minor": 5
}